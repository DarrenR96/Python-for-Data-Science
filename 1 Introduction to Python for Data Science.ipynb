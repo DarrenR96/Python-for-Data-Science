{
 "cells": [
  {
   "cell_type": "markdown",
   "metadata": {
    "collapsed": true,
    "slideshow": {
     "slide_type": "slide"
    }
   },
   "source": [
    "# Introduction to Python for Data Science: The Basics\n",
    " \n",
    "Created By: The TTLAB Team\n",
    "\n",
    "<div>\n",
    "<img src=\"Data/Images/TTLAB.png\" width=\"100\"/>\n",
    "</div>"
   ]
  },
  {
   "cell_type": "markdown",
   "metadata": {
    "slideshow": {
     "slide_type": "slide"
    }
   },
   "source": [
    "## What is Python? \n",
    "* Not a snake (in this case)\n",
    "* Very popular programming language that is relatively easy to read\n",
    "* Comes with a generous standard library that supports commonplace programming tasks\n",
    "* Runs an all major platforms: Mac OSX, Windows, Linux, Unix\n",
    "* It's free!\n",
    "* Created by Guido Van Rossum in 1989"
   ]
  },
  {
   "cell_type": "markdown",
   "metadata": {
    "slideshow": {
     "slide_type": "slide"
    }
   },
   "source": [
    "## Why use Python in Data Science?\n",
    "\n",
    "* Shorter learning curve/easy to understand syntax\n",
    "* Largest collection of popular data science libraries\n",
    "    * pandas, NumPy, rapids, scikit-learn ... & so much more\n",
    "* Thriving open-source community\n",
    "    * You may find libraries on Github that addresses your problems!\n",
    "* Graphics and Vizualiation possibilities\n",
    "    * Packages like matplotlib, bokeh, plotly greatly help the visualization workflow\n",
    "* Deploying models are easy"
   ]
  },
  {
   "cell_type": "markdown",
   "metadata": {
    "slideshow": {
     "slide_type": "subslide"
    }
   },
   "source": [
    "## Other languages for Data Science\n",
    "\n",
    "<div>\n",
    "<img src=\"Data/Images/UsedProgrammingLanguages.png\" width=\"600\"/>\n",
    "</div>\n",
    "\n",
    "*Data from the 2018 Kaggle ML & DS Survey*"
   ]
  },
  {
   "cell_type": "markdown",
   "metadata": {
    "slideshow": {
     "slide_type": "subslide"
    }
   },
   "source": [
    "<div>\n",
    "<img src=\"Data/Images/beforeAfter.jpg\" width=\"500\"/>\n",
    "</div>"
   ]
  },
  {
   "cell_type": "markdown",
   "metadata": {
    "slideshow": {
     "slide_type": "slide"
    }
   },
   "source": [
    "## Getting Started\n",
    "\n",
    "* [Python 3](https://www.python.org/downloads/)\n",
    "* Integrated Development Environment\n",
    "    * [PyCharm](https://www.jetbrains.com/pycharm/), [VS Code](https://code.visualstudio.com/), [Atom](https://atom.io/) ... \n",
    "* Collection of Data Science libraries\n",
    "    * pandas, numpy, matplotlib ..."
   ]
  },
  {
   "cell_type": "markdown",
   "metadata": {
    "slideshow": {
     "slide_type": "subslide"
    }
   },
   "source": [
    "## *Easier* Getting Started\n",
    "\n",
    "* Utilize the [Anaconda Distribution](https://www.anaconda.com/distribution/)\n",
    "    * Anaconda is an easy to set up Data Science Distribution with a library, dependency and environment manager.\n",
    "    * Utilizies Jupyter Notebook as a test pad for writing and running Python scripts.\n",
    "\n",
    "**OR**\n",
    "* Use Google Colab [https://colab.research.google.com/](https://colab.research.google.com/)\n",
    "    * Free Jupyter Notebook env. that runs on the cloud."
   ]
  },
  {
   "cell_type": "markdown",
   "metadata": {
    "slideshow": {
     "slide_type": "skip"
    }
   },
   "source": [
    "___\n",
    "## Basic Commands\n",
    "\n",
    "### Printing out information\n",
    "The infamous \"Hello World\" program."
   ]
  },
  {
   "cell_type": "code",
   "execution_count": null,
   "metadata": {
    "slideshow": {
     "slide_type": "skip"
    }
   },
   "outputs": [],
   "source": [
    "print(\"Hello World\")"
   ]
  },
  {
   "cell_type": "markdown",
   "metadata": {
    "slideshow": {
     "slide_type": "skip"
    }
   },
   "source": [
    "### Comments\n",
    "\n",
    "Comments are snippets of text that are placed within the code and typically contain short descriptions about the code. \n",
    "\n",
    "* Comments in Python are defined by the '#' character"
   ]
  },
  {
   "cell_type": "code",
   "execution_count": null,
   "metadata": {
    "slideshow": {
     "slide_type": "skip"
    }
   },
   "outputs": [],
   "source": [
    "# Author: Darren R.\n",
    "print(\"Hello World\")"
   ]
  },
  {
   "cell_type": "markdown",
   "metadata": {
    "slideshow": {
     "slide_type": "skip"
    }
   },
   "source": [
    "### Variables\n",
    "\n",
    "Variables are used as a storage address with a symbolic name which are referred to within the program. \n",
    " * In Python variable types are dynamically interpreted. \n",
    "\n",
    "Most used data types: \n",
    "* Integers\n",
    "* Floating Point Numbers\n",
    "* Strings \n",
    "* Boolean"
   ]
  },
  {
   "cell_type": "code",
   "execution_count": null,
   "metadata": {
    "slideshow": {
     "slide_type": "skip"
    }
   },
   "outputs": [],
   "source": [
    "# Integer\n",
    "age = 24\n",
    "\n",
    "# Floating Point Number\n",
    "height = 177.8\n",
    "\n",
    "# String\n",
    "name = \"Darren Ramsook\"\n",
    "\n",
    "# Boolean\n",
    "license = True"
   ]
  },
  {
   "cell_type": "code",
   "execution_count": null,
   "metadata": {
    "slideshow": {
     "slide_type": "skip"
    }
   },
   "outputs": [],
   "source": [
    "print(\"My name is \"+ str(name) + \" and I am \"+ str(age) + \" years old.\")"
   ]
  },
  {
   "cell_type": "markdown",
   "metadata": {
    "slideshow": {
     "slide_type": "skip"
    }
   },
   "source": [
    "### Control Statements\n",
    "\n",
    "Control statements are a series of intructions that a program follows that allows for case handling and looping.\n",
    "\n",
    "* if ... else\n",
    "* if ... elif ... else\n",
    "* while ...\n",
    "* for ... in ..."
   ]
  },
  {
   "cell_type": "code",
   "execution_count": null,
   "metadata": {
    "slideshow": {
     "slide_type": "skip"
    }
   },
   "outputs": [],
   "source": [
    "# if ... else\n",
    "\n",
    "if license == True:\n",
    "    print(\"You can drive\")\n",
    "else:\n",
    "    print(\"You cannot drive\")"
   ]
  },
  {
   "cell_type": "code",
   "execution_count": null,
   "metadata": {
    "slideshow": {
     "slide_type": "skip"
    }
   },
   "outputs": [],
   "source": [
    "# if ... elif ... else\n",
    "\n",
    "favColor = \"Violet\"\n",
    "\n",
    "if favColor == \"Green\":\n",
    "    print(\"Plants\")\n",
    "elif favColor == \"Blue\":\n",
    "    print(\"Sky\")\n",
    "elif favColor == \"Red\":\n",
    "    print(\"Rose\")\n",
    "else:\n",
    "    print(\"Pick a new color\")"
   ]
  },
  {
   "cell_type": "code",
   "execution_count": null,
   "metadata": {
    "slideshow": {
     "slide_type": "skip"
    }
   },
   "outputs": [],
   "source": [
    "# while ...\n",
    "count = 0 \n",
    "while count < 10:\n",
    "    print(count)\n",
    "    count = count + 1"
   ]
  },
  {
   "cell_type": "code",
   "execution_count": null,
   "metadata": {
    "slideshow": {
     "slide_type": "skip"
    }
   },
   "outputs": [],
   "source": [
    "# for ... in ...\n",
    "for i in range(0,10):\n",
    "    print(i)"
   ]
  },
  {
   "cell_type": "markdown",
   "metadata": {
    "slideshow": {
     "slide_type": "skip"
    }
   },
   "source": [
    "### Common Data Structures\n",
    "\n",
    "* List: Collection which is ordered and mutable.\n",
    "* Tuple: Collection hich is ordered and immutable.\n",
    "* Dictionary: Collection that is unorderd, changeable and indexed."
   ]
  },
  {
   "cell_type": "code",
   "execution_count": null,
   "metadata": {
    "slideshow": {
     "slide_type": "skip"
    }
   },
   "outputs": [],
   "source": [
    "# List \n",
    "\n",
    "studentsAge = [10,11,12,13]\n",
    "\n",
    "# List Indexing\n",
    "print(studentsAge[0])\n",
    "print(studentsAge[-1])\n",
    "print(studentsAge[1:3])\n",
    "\n",
    "studentsAge[0] = 25\n",
    "print(studentsAge[0])"
   ]
  },
  {
   "cell_type": "code",
   "execution_count": null,
   "metadata": {
    "slideshow": {
     "slide_type": "skip"
    }
   },
   "outputs": [],
   "source": [
    "# Tuple\n",
    "\n",
    "studentInfo = (\"John Smith\", 23, True)\n",
    "\n",
    "print(studentInfo[0])"
   ]
  },
  {
   "cell_type": "code",
   "execution_count": null,
   "metadata": {
    "slideshow": {
     "slide_type": "skip"
    }
   },
   "outputs": [],
   "source": [
    "# Dictionary\n",
    "\n",
    "rating = {}\n",
    "rating[\"Python\"] = 83\n",
    "rating[\"SQL\"] = 44\n",
    "rating[\"R\"] = 36\n",
    "print(rating)"
   ]
  },
  {
   "cell_type": "markdown",
   "metadata": {},
   "source": [
    "## Extending Functionality: Using Popular Data Science Packages\n",
    "\n",
    "* NumPy : package that excels at scientific computing\n",
    "* pandas : easy to use data structure and data analysis tool\n",
    "* Matplotlib : plotting library built on NumPy arrays\n",
    "\n",
    "Once packages are installed (Installed by default if using Anaconda Distribution), you can include them into your workflow through using the *import* command."
   ]
  },
  {
   "cell_type": "code",
   "execution_count": 1,
   "metadata": {},
   "outputs": [],
   "source": [
    "import numpy as np\n",
    "import pandas as pd \n",
    "import matplotlib as mpl"
   ]
  },
  {
   "cell_type": "code",
   "execution_count": null,
   "metadata": {},
   "outputs": [],
   "source": []
  }
 ],
 "metadata": {
  "kernelspec": {
   "display_name": "Python 3",
   "language": "python",
   "name": "python3"
  },
  "language_info": {
   "codemirror_mode": {
    "name": "ipython",
    "version": 3
   },
   "file_extension": ".py",
   "mimetype": "text/x-python",
   "name": "python",
   "nbconvert_exporter": "python",
   "pygments_lexer": "ipython3",
   "version": "3.7.4"
  }
 },
 "nbformat": 4,
 "nbformat_minor": 2
}
