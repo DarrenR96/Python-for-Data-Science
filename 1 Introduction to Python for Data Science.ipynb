{
 "cells": [
  {
   "cell_type": "markdown",
   "metadata": {
    "collapsed": true,
    "slideshow": {
     "slide_type": "slide"
    }
   },
   "source": [
    "# Introduction to Python for Data Science: The Basics\n",
    " \n",
    "Created By: The TTLAB Team\n",
    "\n",
    "<div>\n",
    "<img src=\"Data/Images/TTLAB.png\" width=\"100\"/>\n",
    "</div>"
   ]
  },
  {
   "cell_type": "markdown",
   "metadata": {
    "slideshow": {
     "slide_type": "slide"
    }
   },
   "source": [
    "___\n",
    "\n",
    "“Success is stumbling from failure to failure with no loss of enthusiasm.”\n",
    "― Winston S. Churchill\n",
    "\n",
    "<div>\n",
    "<img src=\"Data/Images/codingcurve.jpg\" width=\"500\"/>\n",
    "</div>\n",
    "\n",
    "[Source](https://lifehacker.com/why-learning-to-code-is-so-hard-and-what-you-can-do-ab-1685229278)\n"
   ]
  },
  {
   "cell_type": "markdown",
   "metadata": {
    "slideshow": {
     "slide_type": "slide"
    }
   },
   "source": [
    "___\n",
    "## What is Python? \n",
    "* Not a snake (in this case)\n",
    "* Very popular programming language that is relatively easy to read\n",
    "* Comes with a generous standard library that supports commonplace programming tasks\n",
    "* Runs an all major platforms: Mac OSX, Windows, Linux, Unix\n",
    "* It's free!\n",
    "* Created by Guido Van Rossum in 1989"
   ]
  },
  {
   "cell_type": "markdown",
   "metadata": {
    "slideshow": {
     "slide_type": "slide"
    }
   },
   "source": [
    "## Why use Python in Data Science?\n",
    "\n",
    "* Shorter learning curve/easy to understand syntax\n",
    "* Largest collection of popular data science libraries\n",
    "    * pandas, NumPy, rapids, scikit-learn ... & so much more\n",
    "* Thriving open-source community\n",
    "    * You may find libraries on Github that addresses your problems!\n",
    "* Graphics and Vizualiation possibilities\n",
    "    * Packages like matplotlib, bokeh, plotly greatly help the visualization workflow\n",
    "* Deploying models are easy"
   ]
  },
  {
   "cell_type": "markdown",
   "metadata": {
    "slideshow": {
     "slide_type": "subslide"
    }
   },
   "source": [
    "## Other languages for Data Science\n",
    "\n",
    "<div>\n",
    "<img src=\"Data/Images/UsedProgrammingLanguages.png\" width=\"600\"/>\n",
    "</div>\n",
    "\n",
    "*Data from the 2018 Kaggle ML & DS Survey*"
   ]
  },
  {
   "cell_type": "markdown",
   "metadata": {
    "slideshow": {
     "slide_type": "subslide"
    }
   },
   "source": [
    "<div>\n",
    "<img src=\"Data/Images/beforeAfter.jpg\" width=\"500\"/>\n",
    "</div>"
   ]
  },
  {
   "cell_type": "markdown",
   "metadata": {
    "slideshow": {
     "slide_type": "slide"
    }
   },
   "source": [
    "## Getting Started\n",
    "\n",
    "* [Python 3](https://www.python.org/downloads/)\n",
    "* Integrated Development Environment\n",
    "    * [PyCharm](https://www.jetbrains.com/pycharm/), [VS Code](https://code.visualstudio.com/), [Atom](https://atom.io/) ... \n",
    "* Collection of Data Science libraries\n",
    "    * pandas, numpy, matplotlib ..."
   ]
  },
  {
   "cell_type": "markdown",
   "metadata": {
    "slideshow": {
     "slide_type": "subslide"
    }
   },
   "source": [
    "## *Easier* Getting Started\n",
    "\n",
    "* Utilize the [Anaconda Distribution](https://www.anaconda.com/distribution/)\n",
    "    * Anaconda is an easy to set up Data Science Distribution with a library, dependency and environment manager.\n",
    "    * Utilizies Jupyter Notebook as a test pad for writing and running Python scripts.\n",
    "\n",
    "**OR**\n",
    "* Use Google Colab [https://colab.research.google.com/](https://colab.research.google.com/)\n",
    "    * Free Jupyter Notebook env. that runs on the cloud."
   ]
  },
  {
   "cell_type": "markdown",
   "metadata": {
    "slideshow": {
     "slide_type": "skip"
    }
   },
   "source": [
    "___\n",
    "## Basic Commands\n",
    "\n",
    "Useful [Python \"Cheat Sheet\"](https://s3.amazonaws.com/assets.datacamp.com/blog_assets/PythonForDataScience.pdf)!\n",
    "\n",
    "### Printing out information\n",
    "The infamous \"Hello World\" program."
   ]
  },
  {
   "cell_type": "code",
   "execution_count": null,
   "metadata": {
    "slideshow": {
     "slide_type": "skip"
    }
   },
   "outputs": [],
   "source": [
    "print(\"Hello World\")"
   ]
  },
  {
   "cell_type": "markdown",
   "metadata": {
    "slideshow": {
     "slide_type": "skip"
    }
   },
   "source": [
    "___\n",
    "### Comments\n",
    "\n",
    "Comments are snippets of text that are placed within the code and typically contain short descriptions about the code. \n",
    "\n",
    "* Comments in Python are defined by the '#' character"
   ]
  },
  {
   "cell_type": "code",
   "execution_count": null,
   "metadata": {
    "slideshow": {
     "slide_type": "skip"
    }
   },
   "outputs": [],
   "source": [
    "# Author: Darren R.\n",
    "print(\"Hello World\")"
   ]
  },
  {
   "cell_type": "markdown",
   "metadata": {
    "slideshow": {
     "slide_type": "skip"
    }
   },
   "source": [
    "___\n",
    "### Variables\n",
    "\n",
    "Variables are used as a storage address with a symbolic name which are referred to within the program. \n",
    " * In Python variable types are dynamically interpreted. \n",
    "\n",
    "Most used data types: \n",
    "* Integers\n",
    "* Floating Point Numbers\n",
    "* Strings \n",
    "* Boolean"
   ]
  },
  {
   "cell_type": "code",
   "execution_count": null,
   "metadata": {
    "slideshow": {
     "slide_type": "skip"
    }
   },
   "outputs": [],
   "source": [
    "# Integer\n",
    "age = 24\n",
    "\n",
    "# Floating Point Number\n",
    "height = 177.8\n",
    "\n",
    "# String\n",
    "name = \"Darren Ramsook\"\n",
    "favColor = \"Green\"\n",
    "\n",
    "# Boolean\n",
    "license = True"
   ]
  },
  {
   "cell_type": "code",
   "execution_count": null,
   "metadata": {
    "slideshow": {
     "slide_type": "skip"
    }
   },
   "outputs": [],
   "source": [
    "print(\"My name is \"+ str(name) + \" and I am \"+ str(age) + \" years old.\")"
   ]
  },
  {
   "cell_type": "markdown",
   "metadata": {
    "slideshow": {
     "slide_type": "skip"
    }
   },
   "source": [
    "___\n",
    "### Control Statements\n",
    "\n",
    "Control statements are a series of intructions that a program follows that allows for case handling and looping.\n",
    "\n",
    "* if ... else\n",
    "* if ... elif ... else\n",
    "* while ...\n",
    "* for ... in ..."
   ]
  },
  {
   "cell_type": "code",
   "execution_count": null,
   "metadata": {
    "slideshow": {
     "slide_type": "skip"
    }
   },
   "outputs": [],
   "source": [
    "# if ... else\n",
    "\n",
    "if license == True:\n",
    "    print(\"You can drive\")\n",
    "else:\n",
    "    print(\"You cannot drive\")"
   ]
  },
  {
   "cell_type": "code",
   "execution_count": null,
   "metadata": {
    "slideshow": {
     "slide_type": "skip"
    }
   },
   "outputs": [],
   "source": [
    "# if ... elif ... else\n",
    "\n",
    "favColor = \"Violet\"\n",
    "\n",
    "if favColor == \"Green\":\n",
    "    print(\"Plants\")\n",
    "elif favColor == \"Blue\":\n",
    "    print(\"Sky\")\n",
    "elif favColor == \"Red\":\n",
    "    print(\"Rose\")\n",
    "else:\n",
    "    print(\"Pick a new color\")"
   ]
  },
  {
   "cell_type": "code",
   "execution_count": null,
   "metadata": {
    "slideshow": {
     "slide_type": "skip"
    }
   },
   "outputs": [],
   "source": [
    "# while ...\n",
    "count = 0 \n",
    "while count < 10:\n",
    "    print(count)\n",
    "    count = count + 1"
   ]
  },
  {
   "cell_type": "code",
   "execution_count": null,
   "metadata": {
    "slideshow": {
     "slide_type": "skip"
    }
   },
   "outputs": [],
   "source": [
    "# for ... in ...\n",
    "for i in range(0,10):\n",
    "    print(i)"
   ]
  },
  {
   "cell_type": "markdown",
   "metadata": {
    "slideshow": {
     "slide_type": "skip"
    }
   },
   "source": [
    "___\n",
    "### Common Data Structures\n",
    "\n",
    "* List: Collection which is ordered and mutable.\n",
    "* Tuple: Collection hich is ordered and immutable.\n",
    "* Dictionary: Collection that is unorderd, changeable and indexed."
   ]
  },
  {
   "cell_type": "code",
   "execution_count": null,
   "metadata": {
    "slideshow": {
     "slide_type": "skip"
    }
   },
   "outputs": [],
   "source": [
    "# List \n",
    "studentsAge = [10,11,12,13]\n",
    "\n",
    "# List Indexing\n",
    "print(studentsAge[0])\n",
    "print(studentsAge[-1])\n",
    "print(studentsAge[1:3])\n",
    "\n",
    "studentsAge[0] = 25\n",
    "print(studentsAge[0])"
   ]
  },
  {
   "cell_type": "code",
   "execution_count": null,
   "metadata": {
    "slideshow": {
     "slide_type": "skip"
    }
   },
   "outputs": [],
   "source": [
    "# Tuple\n",
    "\n",
    "studentInfo = (\"John Smith\", 23, True)\n",
    "\n",
    "print(studentInfo[0])"
   ]
  },
  {
   "cell_type": "code",
   "execution_count": null,
   "metadata": {
    "slideshow": {
     "slide_type": "skip"
    }
   },
   "outputs": [],
   "source": [
    "# Dictionary\n",
    "\n",
    "rating = {}\n",
    "rating[\"Python\"] = 83\n",
    "rating[\"SQL\"] = 44\n",
    "rating[\"R\"] = 36\n",
    "print(rating)"
   ]
  },
  {
   "cell_type": "markdown",
   "metadata": {
    "slideshow": {
     "slide_type": "skip"
    }
   },
   "source": [
    "___\n",
    "## Extending Functionality: Using Popular Data Science Packages\n",
    "\n",
    "* NumPy : package that excels at scientific computing\n",
    "* pandas : easy to use data structure and data analysis tool\n",
    "* Matplotlib : plotting library built on NumPy arrays\n",
    "\n",
    "Once packages are installed (Installed by default if using Anaconda Distribution), you can include them into your workflow through using the *import* command."
   ]
  },
  {
   "cell_type": "markdown",
   "metadata": {
    "slideshow": {
     "slide_type": "skip"
    }
   },
   "source": [
    "### NumPy\n",
    "NumPy provides high performance multidimensional arrays and tools for these arrays.\n",
    "\n",
    "Useful Links:\n",
    "[NumPy \"Cheat Sheet\"](https://s3.amazonaws.com/assets.datacamp.com/blog_assets/Numpy_Python_Cheat_Sheet.pdf) \n",
    "\n",
    "[Documentation](https://docs.scipy.org/doc/numpy/reference/)\n",
    "\n",
    "Import NumPy under the alias \"np\" for convenience:"
   ]
  },
  {
   "cell_type": "code",
   "execution_count": null,
   "metadata": {
    "slideshow": {
     "slide_type": "skip"
    }
   },
   "outputs": [],
   "source": [
    "import numpy as np"
   ]
  },
  {
   "cell_type": "markdown",
   "metadata": {
    "slideshow": {
     "slide_type": "skip"
    }
   },
   "source": [
    "___\n",
    "First of all let's create two 2D arrays, A & B:\n",
    "\n",
    "$A = \\begin{bmatrix}1 & 3\\\\-4 & 3\\end{bmatrix}$\n",
    "\n",
    "$B = \\begin{bmatrix}2 & 1\\\\3 & 1\\end{bmatrix}$\n",
    "\n",
    "To do this in NumPy we use the *np.array()* function."
   ]
  },
  {
   "cell_type": "code",
   "execution_count": null,
   "metadata": {
    "slideshow": {
     "slide_type": "skip"
    }
   },
   "outputs": [],
   "source": [
    "A = np.array([[1,3],[-4,3]])\n",
    "B = np.array([[2,1],[3,1]])\n",
    "\n",
    "print(A)\n",
    "print(B)"
   ]
  },
  {
   "cell_type": "markdown",
   "metadata": {
    "slideshow": {
     "slide_type": "skip"
    }
   },
   "source": [
    "___\n",
    "We can also create arrays that have initial placeholder values:\n",
    "\n",
    "* *np.zeros()* : Creates an array of zeros\n",
    "* *np.ones()* : Creates an array of ones"
   ]
  },
  {
   "cell_type": "code",
   "execution_count": null,
   "metadata": {
    "slideshow": {
     "slide_type": "skip"
    }
   },
   "outputs": [],
   "source": [
    "zerosMatrix = np.zeros((2,2))\n",
    "onesMatrix = np.zeros((2,2))\n",
    "\n",
    "print(zerosMatrix)\n",
    "print(onesMatrix)"
   ]
  },
  {
   "cell_type": "markdown",
   "metadata": {
    "slideshow": {
     "slide_type": "skip"
    }
   },
   "source": [
    "___\n",
    "Arrays can be examined through some built in functions:\n",
    "* *array.shape* : Returns the array dimensions\n",
    "* *array.size* : Returns the number of elements in array\n",
    "* *array.dtype* : Returns the data type of array elements"
   ]
  },
  {
   "cell_type": "code",
   "execution_count": null,
   "metadata": {
    "slideshow": {
     "slide_type": "skip"
    }
   },
   "outputs": [],
   "source": [
    "print(A.shape)\n",
    "print(A.size)\n",
    "print(A.dtype)"
   ]
  },
  {
   "cell_type": "markdown",
   "metadata": {
    "slideshow": {
     "slide_type": "skip"
    }
   },
   "source": [
    "___ \n",
    "Some arithmetic operations that are useful:\n",
    "\n",
    "* *np.subtract(a,b)* : Subtraction\n",
    "* *np.add(a,b)* : Addition\n",
    "* *np.divide(a,b)* : Division\n",
    "* *np.multiply(a,b)* : Multiplication"
   ]
  },
  {
   "cell_type": "code",
   "execution_count": null,
   "metadata": {
    "slideshow": {
     "slide_type": "skip"
    }
   },
   "outputs": [],
   "source": [
    "print(np.subtract(A,B))\n",
    "print(np.add(A,B))\n",
    "print(np.divide(A,B))\n",
    "print(np.multiply(A,B))"
   ]
  },
  {
   "cell_type": "markdown",
   "metadata": {
    "slideshow": {
     "slide_type": "skip"
    }
   },
   "source": [
    "___\n",
    "Transpose and Inverse:\n",
    "\n",
    "* *np.transpose()* : transpose\n",
    "* *np.linalg.inv()* : inverse"
   ]
  },
  {
   "cell_type": "code",
   "execution_count": null,
   "metadata": {
    "slideshow": {
     "slide_type": "skip"
    }
   },
   "outputs": [],
   "source": [
    "print(np.transpose(A))\n",
    "print(np.linalg.inv(A))"
   ]
  },
  {
   "cell_type": "markdown",
   "metadata": {
    "slideshow": {
     "slide_type": "skip"
    }
   },
   "source": [
    "___\n",
    "Subsets and individual values can be extracted from a Matrix. Consider the 3D Matrix C:\n",
    "\n",
    "$C = \\begin{bmatrix}1 & 2 & 3\\\\4 & 5 & 6\\\\ 7 & 8 & 9\\end{bmatrix}$\n",
    "\n",
    "If we needed to extract the value at the first row, last column (0,2):"
   ]
  },
  {
   "cell_type": "code",
   "execution_count": null,
   "metadata": {
    "slideshow": {
     "slide_type": "skip"
    }
   },
   "outputs": [],
   "source": [
    "C = np.array([[1,2,3],[4,5,6],[7,8,9]])\n",
    "\n",
    "print(C[0,2])"
   ]
  },
  {
   "cell_type": "markdown",
   "metadata": {
    "slideshow": {
     "slide_type": "skip"
    }
   },
   "source": [
    "We can also \"slice\" a portion of an existing array to create a new array:"
   ]
  },
  {
   "cell_type": "code",
   "execution_count": null,
   "metadata": {
    "slideshow": {
     "slide_type": "skip"
    }
   },
   "outputs": [],
   "source": [
    "D = C[0:2,0:2]\n",
    "\n",
    "print(D)"
   ]
  },
  {
   "cell_type": "markdown",
   "metadata": {
    "slideshow": {
     "slide_type": "skip"
    }
   },
   "source": [
    "### pandas\n",
    "\n",
    "Useful Links:\n",
    "[Pandas Cheat Sheet](http://datacamp-community-prod.s3.amazonaws.com/dbed353d-2757-4617-8206-8767ab379ab3)\n",
    "\n",
    "[Pandas Documentation](https://pandas.pydata.org/pandas-docs/stable/)\n",
    "\n",
    "\n",
    "pandas library is created upon NumPy and provides intuitive easy to use data structures and data analysis tools.\n",
    "___\n",
    "\n",
    "Import pandas under the alias \"pd\" for convenience:"
   ]
  },
  {
   "cell_type": "code",
   "execution_count": null,
   "metadata": {
    "slideshow": {
     "slide_type": "skip"
    }
   },
   "outputs": [],
   "source": [
    "import pandas as pd"
   ]
  },
  {
   "cell_type": "markdown",
   "metadata": {
    "slideshow": {
     "slide_type": "skip"
    }
   },
   "source": [
    "I/O Funcitonality:\n",
    "\n",
    "Read files into pandas:\n",
    "* *pd.read_csv()* : Read CSV file\n",
    "* *pd.read_excel()* : Read Excel file\n",
    "\n",
    "Write pandas Dataframe to file:\n",
    "* *dataframe.to_csv()* : Write to CSV file\n",
    "* *dataframe.to_csv()* : Write to Excel file\n",
    "\n",
    "There is a \"movieRatings.csv\" file in the \"Data\" folder. Let's try to read it into pandas."
   ]
  },
  {
   "cell_type": "code",
   "execution_count": null,
   "metadata": {
    "slideshow": {
     "slide_type": "skip"
    }
   },
   "outputs": [],
   "source": [
    "ratingsDF = pd.read_csv(\"Data/movieRatings.csv\")"
   ]
  },
  {
   "cell_type": "code",
   "execution_count": null,
   "metadata": {
    "slideshow": {
     "slide_type": "skip"
    }
   },
   "outputs": [],
   "source": [
    "print(ratingsDF)"
   ]
  },
  {
   "cell_type": "markdown",
   "metadata": {
    "slideshow": {
     "slide_type": "skip"
    }
   },
   "source": [
    "We can get more information about the dataset through the use of the *.info()* function:"
   ]
  },
  {
   "cell_type": "code",
   "execution_count": null,
   "metadata": {
    "slideshow": {
     "slide_type": "skip"
    }
   },
   "outputs": [],
   "source": [
    "print(ratingsDF.info())"
   ]
  },
  {
   "cell_type": "markdown",
   "metadata": {
    "slideshow": {
     "slide_type": "skip"
    }
   },
   "source": [
    "It seems as though the person entering data missed out the rating for ReviewID 1011. We can ignore this row by dropping it. To drop any erroneous rows we use the *.dropna()* function in pandas."
   ]
  },
  {
   "cell_type": "code",
   "execution_count": null,
   "metadata": {
    "scrolled": true,
    "slideshow": {
     "slide_type": "skip"
    }
   },
   "outputs": [],
   "source": [
    "ratingsDF = ratingsDF.dropna()\n",
    "print(ratingsDF)"
   ]
  },
  {
   "cell_type": "markdown",
   "metadata": {
    "slideshow": {
     "slide_type": "skip"
    }
   },
   "source": [
    "Let's get the average rating of the 11 movies in this list. This can be done though calling the *.mean()* function on a specific column."
   ]
  },
  {
   "cell_type": "code",
   "execution_count": null,
   "metadata": {
    "slideshow": {
     "slide_type": "skip"
    }
   },
   "outputs": [],
   "source": [
    "ratingMean = ratingsDF['Rating'].mean()\n",
    "print(ratingMean)"
   ]
  },
  {
   "cell_type": "markdown",
   "metadata": {
    "slideshow": {
     "slide_type": "skip"
    }
   },
   "source": [
    "### MatplotLib\n",
    "\n",
    "Useful Links: [Matplotlib Cheat Sheet](https://python-graph-gallery.com/wp-content/uploads/Matplotlib_cheatsheet_datacamp.png)\n",
    "\n",
    "Matplotlib is a 2D plotting library that generates publication quality figures.\n",
    "\n",
    "Below we show an easy plot showing the Rating and Movie Name."
   ]
  },
  {
   "cell_type": "code",
   "execution_count": null,
   "metadata": {
    "slideshow": {
     "slide_type": "skip"
    }
   },
   "outputs": [],
   "source": [
    "import matplotlib.pyplot as plt\n",
    "\n",
    "plt.plot(ratingsDF['Movie'], ratingsDF['Rating'])\n",
    "plt.xticks(rotation=90)\n",
    "plt.xlabel(\"MovieID\")\n",
    "plt.ylabel(\"Rating\")\n",
    "plt.show()"
   ]
  },
  {
   "cell_type": "markdown",
   "metadata": {
    "slideshow": {
     "slide_type": "skip"
    }
   },
   "source": [
    "___\n",
    "## Endless Possibilities\n",
    "\n",
    "Some good motivational examples: \n",
    "\n",
    "https://dash-gallery.plotly.host/dash-oil-and-gas/\n",
    "\n",
    "https://dash-gallery.plotly.host/dash-object-detection\n",
    "\n",
    "https://demo.bokeh.org/movies"
   ]
  },
  {
   "cell_type": "code",
   "execution_count": null,
   "metadata": {
    "slideshow": {
     "slide_type": "skip"
    }
   },
   "outputs": [],
   "source": [
    "print(\"Goodbye\")"
   ]
  }
 ],
 "metadata": {
  "kernelspec": {
   "display_name": "Python 3",
   "language": "python",
   "name": "python3"
  },
  "language_info": {
   "codemirror_mode": {
    "name": "ipython",
    "version": 3
   },
   "file_extension": ".py",
   "mimetype": "text/x-python",
   "name": "python",
   "nbconvert_exporter": "python",
   "pygments_lexer": "ipython3",
   "version": "3.7.4"
  }
 },
 "nbformat": 4,
 "nbformat_minor": 2
}
